{
 "cells": [
  {
   "cell_type": "code",
   "execution_count": 74,
   "id": "952d38e2-5310-415a-a835-0defb0fb8959",
   "metadata": {},
   "outputs": [
    {
     "data": {
      "text/plain": [
       "[('Virat Kohli', 24936),\n",
       " ('Jack Kallis', 25534),\n",
       " ('Ricky Ponting', 27483),\n",
       " ('Sachin Tendulkar', 34357)]"
      ]
     },
     "execution_count": 74,
     "metadata": {},
     "output_type": "execute_result"
    }
   ],
   "source": [
    "# QUS.1\n",
    "tup = [('Sachin Tendulkar', 34357), ('Ricky Ponting', 27483), ('Jack Kallis', 25534), ('Virat Kohli', 24936)]\n",
    "sorting = sorted(tup,key= lambda index : index[1])\n",
    "sorting"
   ]
  },
  {
   "cell_type": "code",
   "execution_count": 3,
   "id": "a2169901-7f53-4629-85be-7f58b1d84591",
   "metadata": {},
   "outputs": [
    {
     "data": {
      "text/plain": [
       "[1, 4, 9, 16, 25, 36, 49, 64, 81, 100]"
      ]
     },
     "execution_count": 3,
     "metadata": {},
     "output_type": "execute_result"
    }
   ],
   "source": [
    "# Qus. 2 \n",
    "li = [1, 2, 3, 4, 5, 6, 7, 8, 9, 10]\n",
    "list(map(lambda c : c**2 , li))"
   ]
  },
  {
   "cell_type": "code",
   "execution_count": 11,
   "id": "fed498f6-3477-44f2-a98a-7fc6ff6ae62d",
   "metadata": {},
   "outputs": [
    {
     "data": {
      "text/plain": [
       "('1', '2', '3', '4', '5', '6', '7', '8', '9', '10')"
      ]
     },
     "execution_count": 11,
     "metadata": {},
     "output_type": "execute_result"
    }
   ],
   "source": [
    "# Qus 3 \n",
    "string = [1, 2, 3, 4, 5, 6, 7, 8, 9, 10]\n",
    "tuple(map(lambda c : str(c), string))\n",
    "    "
   ]
  },
  {
   "cell_type": "code",
   "execution_count": 12,
   "id": "4611cefa-672e-457e-8401-02f9e21ff967",
   "metadata": {},
   "outputs": [
    {
     "data": {
      "text/plain": [
       "15511210043330985984000000"
      ]
     },
     "execution_count": 12,
     "metadata": {},
     "output_type": "execute_result"
    }
   ],
   "source": [
    "#Qus 4 \n",
    "l1 = []\n",
    "for i in range(1,26):\n",
    "    l1.append(i)\n",
    "    \n",
    "from functools import reduce\n",
    "reduce(lambda x,y : x*y , l1)\n",
    "    \n",
    "    "
   ]
  },
  {
   "cell_type": "code",
   "execution_count": 15,
   "id": "aa8852dd-ebbc-4175-b169-ccc11076933f",
   "metadata": {},
   "outputs": [
    {
     "data": {
      "text/plain": [
       "[2, 3, 6, 9, 27, 60, 90, 120, 46]"
      ]
     },
     "execution_count": 15,
     "metadata": {},
     "output_type": "execute_result"
    }
   ],
   "source": [
    "#Qus 5 \n",
    "l2 = [2, 3, 6, 9, 27, 60, 90, 120, 55, 46]\n",
    "\n",
    "list(filter(lambda x : x % 2 ==0 or x % 3 ==0, l2))\n"
   ]
  },
  {
   "cell_type": "code",
   "execution_count": 16,
   "id": "079128da-205c-4d30-a5cc-41c8f9ebcfe5",
   "metadata": {},
   "outputs": [
    {
     "data": {
      "text/plain": [
       "['php', 'aba', 'radar', 'level']"
      ]
     },
     "execution_count": 16,
     "metadata": {},
     "output_type": "execute_result"
    }
   ],
   "source": [
    "# Qus. 6 \n",
    "find_palendrome = ['python', 'php', 'aba', 'radar', 'level']\n",
    "list(filter(lambda index : index[0::]== index[::-1] , find_palendrome ))\n",
    "\n",
    "\n"
   ]
  },
  {
   "cell_type": "code",
   "execution_count": null,
   "id": "a61594ba-6b8a-452e-832b-9fc58fedc163",
   "metadata": {},
   "outputs": [],
   "source": []
  }
 ],
 "metadata": {
  "kernelspec": {
   "display_name": "Python 3 (ipykernel)",
   "language": "python",
   "name": "python3"
  },
  "language_info": {
   "codemirror_mode": {
    "name": "ipython",
    "version": 3
   },
   "file_extension": ".py",
   "mimetype": "text/x-python",
   "name": "python",
   "nbconvert_exporter": "python",
   "pygments_lexer": "ipython3",
   "version": "3.10.8"
  }
 },
 "nbformat": 4,
 "nbformat_minor": 5
}
