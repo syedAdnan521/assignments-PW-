{
 "cells": [
  {
   "cell_type": "code",
   "execution_count": 1,
   "id": "ecf105c4-f0df-4b04-892b-128f827b3f91",
   "metadata": {},
   "outputs": [],
   "source": [
    "# Qus.1 :\n",
    "#comment code in python by \"#\"  symbol\n"
   ]
  },
  {
   "cell_type": "code",
   "execution_count": 2,
   "id": "49944909-8534-4da3-b7b8-6798978f42fd",
   "metadata": {},
   "outputs": [],
   "source": [
    "# Qus.2 : \n",
    "# variables are kind of containers that store values , in any data type. \n",
    "# for xample : a = 5 b = \"pwskills\"  c = 8+5j d = True etc. \n",
    "\n"
   ]
  },
  {
   "cell_type": "code",
   "execution_count": 3,
   "id": "1ed301b0-cd13-47e1-a099-c748194ed0b3",
   "metadata": {},
   "outputs": [
    {
     "data": {
      "text/plain": [
       "'True'"
      ]
     },
     "execution_count": 3,
     "metadata": {},
     "output_type": "execute_result"
    }
   ],
   "source": [
    "# Qus.3 : convert one data type to another \n",
    "a = str(5)\n",
    "type(a)\n",
    "\n",
    "b = True \n",
    "str(b)\n"
   ]
  },
  {
   "cell_type": "code",
   "execution_count": 4,
   "id": "744389d8-59ed-4a7c-b0a0-6f6a43b3a7a2",
   "metadata": {},
   "outputs": [],
   "source": [
    "#Qus.4 : \n",
    "# in a command line type a word \"python\" (with its version) followed by path of script file \n",
    "# for example : command :  python3 pyscript.py "
   ]
  },
  {
   "cell_type": "code",
   "execution_count": 21,
   "id": "cd2bdecd-7edb-4e9a-a700-5ca3e0226fc0",
   "metadata": {},
   "outputs": [
    {
     "name": "stdout",
     "output_type": "stream",
     "text": [
      "[2, 3]\n"
     ]
    }
   ],
   "source": [
    "# Qus.5 : \n",
    "my_list = [1, 2, 3, 4, 5]\n",
    "d = my_list[1:3]\n",
    "print(d)"
   ]
  },
  {
   "cell_type": "code",
   "execution_count": 24,
   "id": "297cd9b8-e041-4deb-8f49-f97a9e97d9ca",
   "metadata": {},
   "outputs": [
    {
     "data": {
      "text/plain": [
       "complex"
      ]
     },
     "execution_count": 24,
     "metadata": {},
     "output_type": "execute_result"
    }
   ],
   "source": [
    "# Qus.6 : \n",
    "# complex number is a combination of real number and imaginery number(i) , represent in the form of \"a+ib\" \n",
    "# for example : 8+5i , 9+i \n",
    "# in python this complex no. is reprsented as \"j\" . ex : 5 + 8j , 4+5j etc\n",
    "c = 5+8j \n",
    "type(c)"
   ]
  },
  {
   "cell_type": "code",
   "execution_count": 25,
   "id": "7ff08d0b-d6c3-4d6a-b410-1012109f910e",
   "metadata": {},
   "outputs": [],
   "source": [
    "#Qus.7 : \n",
    "age = 25 \n"
   ]
  },
  {
   "cell_type": "code",
   "execution_count": 27,
   "id": "937eccfa-7704-46ea-8ee1-31f7b5984de6",
   "metadata": {},
   "outputs": [
    {
     "data": {
      "text/plain": [
       "float"
      ]
     },
     "execution_count": 27,
     "metadata": {},
     "output_type": "execute_result"
    }
   ],
   "source": [
    "#Qus. 8\n",
    "price = 9.99 \n",
    "type(price)"
   ]
  },
  {
   "cell_type": "code",
   "execution_count": 29,
   "id": "c29758da-baf9-400c-ae92-ee2fae567ddc",
   "metadata": {},
   "outputs": [
    {
     "name": "stdout",
     "output_type": "stream",
     "text": [
      "Syed Adnan Ahmad\n"
     ]
    }
   ],
   "source": [
    "# Qus. 9 \n",
    "Name = \"Syed Adnan Ahmad\"\n",
    "print(Name)"
   ]
  },
  {
   "cell_type": "code",
   "execution_count": 64,
   "id": "5d8083d4-0f07-44fc-b260-8c2f09957523",
   "metadata": {},
   "outputs": [
    {
     "data": {
      "text/plain": [
       "'World'"
      ]
     },
     "execution_count": 64,
     "metadata": {},
     "output_type": "execute_result"
    }
   ],
   "source": [
    "#Qus. 10 \n",
    "string = \"Hello, World!\"\n",
    "string[-6:-1]"
   ]
  },
  {
   "cell_type": "code",
   "execution_count": null,
   "id": "f1e6df37-9d74-48c3-b0cf-78fcb610604a",
   "metadata": {},
   "outputs": [],
   "source": [
    "#Qus.11 \n",
    "is_student = True"
   ]
  },
  {
   "cell_type": "code",
   "execution_count": null,
   "id": "a2a22cbc-8e38-4524-b4e7-01b9ab3c0bd1",
   "metadata": {},
   "outputs": [],
   "source": []
  }
 ],
 "metadata": {
  "kernelspec": {
   "display_name": "Python 3 (ipykernel)",
   "language": "python",
   "name": "python3"
  },
  "language_info": {
   "codemirror_mode": {
    "name": "ipython",
    "version": 3
   },
   "file_extension": ".py",
   "mimetype": "text/x-python",
   "name": "python",
   "nbconvert_exporter": "python",
   "pygments_lexer": "ipython3",
   "version": "3.10.8"
  }
 },
 "nbformat": 4,
 "nbformat_minor": 5
}
