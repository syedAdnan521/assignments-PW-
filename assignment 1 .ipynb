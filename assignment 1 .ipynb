{
 "cells": [
  {
   "cell_type": "code",
   "execution_count": 1,
   "id": "741fd43e-d02c-4b13-a498-614de0fe53f6",
   "metadata": {},
   "outputs": [],
   "source": [
    "# Qus.1 : \n",
    "a = \"pwskills\" \n",
    "list = [5,4,32,78,\"physicswallah\",8+5j, 28.4]\n",
    "float = 24.6 \n",
    "tuple = (45,62, \"pwskills\")\n",
    "\n"
   ]
  },
  {
   "cell_type": "code",
   "execution_count": 2,
   "id": "e6862f2d-5815-4768-9c36-13e1d13b15a9",
   "metadata": {},
   "outputs": [
    {
     "data": {
      "text/plain": [
       "str"
      ]
     },
     "execution_count": 2,
     "metadata": {},
     "output_type": "execute_result"
    }
   ],
   "source": [
    "# Qus. 2 \n",
    "# var1 = ‘ ‘  invalid chracter\n",
    "var2 = \"[ DS , ML , Python]\"\n",
    "var3 = [ 'DS' , 'ML' , 'Python' ]\n",
    "var4 = 1\n",
    "\n",
    "type(var2)\n",
    " "
   ]
  },
  {
   "cell_type": "code",
   "execution_count": 3,
   "id": "7402a37f-bfb5-4cb5-8f66-b5ec980ed624",
   "metadata": {},
   "outputs": [
    {
     "data": {
      "text/plain": [
       "list"
      ]
     },
     "execution_count": 3,
     "metadata": {},
     "output_type": "execute_result"
    }
   ],
   "source": [
    "type(var3)\n"
   ]
  },
  {
   "cell_type": "code",
   "execution_count": 4,
   "id": "5dda8265-708f-4958-b15c-43343194d7a1",
   "metadata": {},
   "outputs": [
    {
     "data": {
      "text/plain": [
       "int"
      ]
     },
     "execution_count": 4,
     "metadata": {},
     "output_type": "execute_result"
    }
   ],
   "source": [
    "type(var4)\n"
   ]
  },
  {
   "cell_type": "code",
   "execution_count": 5,
   "id": "aa92bf8e-2a82-4f0a-b35c-dffe21a55ca4",
   "metadata": {},
   "outputs": [
    {
     "name": "stdout",
     "output_type": "stream",
     "text": [
      "5.0\n",
      "1\n",
      "5\n",
      "16\n"
     ]
    }
   ],
   "source": [
    "#Qus.3: \n",
    "# / : division operator \n",
    "a = 25/5 \n",
    "print(a)\n",
    "\n",
    "# % : modulo shows remaider \n",
    "b = 36%5\n",
    "print(b)\n",
    "\n",
    "# // : divison operator but without floating/ decimal number \n",
    "c = 40 // 7 \n",
    "print(c)\n",
    "\n",
    "# ** : power operator multiply numbers \n",
    "d = 2**4 \n",
    "print(d)"
   ]
  },
  {
   "cell_type": "code",
   "execution_count": 6,
   "id": "f033faf4-0c99-43fb-b7ed-e761b6906e57",
   "metadata": {},
   "outputs": [
    {
     "name": "stdout",
     "output_type": "stream",
     "text": [
      "2 <class 'int'>\n",
      "4 <class 'int'>\n",
      "5 <class 'int'>\n",
      "(5+8j) <class 'complex'>\n",
      "pwskills <class 'str'>\n",
      "True <class 'bool'>\n",
      "56.4 <class 'float'>\n",
      "python <class 'str'>\n",
      "False <class 'bool'>\n",
      "83.8 <class 'float'>\n",
      "(2, 4, 3) <class 'tuple'>\n"
     ]
    }
   ],
   "source": [
    "#Qus. 4 \n",
    "\n",
    "lis = [2,4,5,5+8j,\"pwskills\",True,56.4,\"python\", False , 83.8, (2,4,3)]\n",
    "\n",
    "for i in lis : \n",
    "        print(i, type(i))\n",
    "        \n",
    "        "
   ]
  },
  {
   "cell_type": "code",
   "execution_count": 7,
   "id": "571c2da5-e204-44b1-a694-a6da637fc46d",
   "metadata": {},
   "outputs": [
    {
     "name": "stdin",
     "output_type": "stream",
     "text": [
      " 90\n",
      " 10\n"
     ]
    },
    {
     "name": "stdout",
     "output_type": "stream",
     "text": [
      "90 is completely divisible by 10 in 9 times\n"
     ]
    }
   ],
   "source": [
    "#Qus.5 \n",
    "\n",
    "num_a = int(input())\n",
    "num_b = int(input())\n",
    "output = num_a % num_b\n",
    "quotient = num_a // num_b\n",
    "\n",
    "while output == 0 :\n",
    "    print(num_a, 'is completely divisible by', num_b,  \"in\",  quotient, \"times\")\n",
    "    break \n",
    "else : \n",
    "    print(\"not completely divisible\")\n"
   ]
  },
  {
   "cell_type": "raw",
   "id": "9db4ef65-3b28-4857-abc3-ef34c76f46ef",
   "metadata": {},
   "source": []
  },
  {
   "cell_type": "code",
   "execution_count": 8,
   "id": "44f44ac5-89dc-42ab-88c8-d54eb5029031",
   "metadata": {},
   "outputs": [
    {
     "name": "stdout",
     "output_type": "stream",
     "text": [
      "6 is divisible by 3\n",
      "9 is divisible by 3\n",
      "85 is NOT divisible by 3\n",
      "15 is divisible by 3\n",
      "28 is NOT divisible by 3\n",
      "65 is NOT divisible by 3\n",
      "12354 is divisible by 3\n",
      "56 is NOT divisible by 3\n",
      "78 is divisible by 3\n",
      "45 is divisible by 3\n",
      "89 is NOT divisible by 3\n",
      "14 is NOT divisible by 3\n",
      "222666 is divisible by 3\n",
      "78 is divisible by 3\n",
      "789456 is divisible by 3\n",
      "324 is divisible by 3\n",
      "27 is divisible by 3\n",
      "66 is divisible by 3\n",
      "99 is divisible by 3\n",
      "90 is divisible by 3\n",
      "58.6 is NOT divisible by 3\n",
      "7895425 is NOT divisible by 3\n"
     ]
    }
   ],
   "source": [
    "# Qus. 6 \n",
    "\n",
    "li = [6,9,85,15,28,65,12354,56,78,45,89,14,222666,78,789456,324,27,66,99,90,58.6,7895425]\n",
    "\n",
    "for i in li : \n",
    "    if i % 3 == 0 :\n",
    "        print(i, \"is divisible by 3\")\n",
    "    else : \n",
    "        print(i, \"is NOT divisible by 3\")"
   ]
  },
  {
   "cell_type": "markdown",
   "id": "13db8a4d-f454-4665-a6e8-fcda0c6a6454",
   "metadata": {},
   "source": []
  }
 ],
 "metadata": {
  "kernelspec": {
   "display_name": "Python 3 (ipykernel)",
   "language": "python",
   "name": "python3"
  },
  "language_info": {
   "codemirror_mode": {
    "name": "ipython",
    "version": 3
   },
   "file_extension": ".py",
   "mimetype": "text/x-python",
   "name": "python",
   "nbconvert_exporter": "python",
   "pygments_lexer": "ipython3",
   "version": "3.10.8"
  }
 },
 "nbformat": 4,
 "nbformat_minor": 5
}
