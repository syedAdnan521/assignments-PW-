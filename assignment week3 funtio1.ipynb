{
 "cells": [
  {
   "cell_type": "code",
   "execution_count": 1,
   "id": "afa301f7-08eb-41b7-9561-85562eec773f",
   "metadata": {},
   "outputs": [],
   "source": [
    "# Qus. 1 \n",
    "# \"def\" is used to create a function \n",
    "\n",
    "def odd(n):\n",
    "    l = []\n",
    "    for i in range(n):  \n",
    "            if i % 2 != 0:              \n",
    "                l.append(i)\n",
    "    return l \n",
    "    "
   ]
  },
  {
   "cell_type": "code",
   "execution_count": 2,
   "id": "b4060151-e3b4-4cb9-a86f-f1100055731d",
   "metadata": {},
   "outputs": [
    {
     "data": {
      "text/plain": [
       "[1, 3, 5, 7, 9, 11, 13, 15, 17, 19, 21, 23]"
      ]
     },
     "execution_count": 2,
     "metadata": {},
     "output_type": "execute_result"
    }
   ],
   "source": [
    "odd(25)\n",
    "    "
   ]
  },
  {
   "cell_type": "code",
   "execution_count": 3,
   "id": "a8f24048-c0b1-44ed-acc0-82ccde91d34d",
   "metadata": {},
   "outputs": [
    {
     "data": {
      "text/plain": [
       "16"
      ]
     },
     "execution_count": 3,
     "metadata": {},
     "output_type": "execute_result"
    }
   ],
   "source": [
    "# Qus.2 \n",
    "\n",
    "multiple = lambda x : x*2 \n",
    "multiple(8)"
   ]
  },
  {
   "cell_type": "code",
   "execution_count": 4,
   "id": "ff66c352-101f-417e-8cb1-6a742980f3c4",
   "metadata": {},
   "outputs": [],
   "source": [
    "power = lambda y : y**3 "
   ]
  },
  {
   "cell_type": "code",
   "execution_count": 5,
   "id": "d2cd0b77-4a90-465d-9e30-a0e7e6065d7b",
   "metadata": {},
   "outputs": [
    {
     "data": {
      "text/plain": [
       "27"
      ]
     },
     "execution_count": 5,
     "metadata": {},
     "output_type": "execute_result"
    }
   ],
   "source": [
    "power(3)"
   ]
  },
  {
   "cell_type": "code",
   "execution_count": 6,
   "id": "fd7daa90-ae75-4c97-8b54-3b824e11caaa",
   "metadata": {},
   "outputs": [
    {
     "name": "stdout",
     "output_type": "stream",
     "text": [
      "[2, 4, 6, 8, 10, 12]\n"
     ]
    }
   ],
   "source": [
    "# Qus. 3 \n",
    "l1 = [2, 4, 6, 8, 10, 12, 14,16, 18, 20] \n",
    "print(l1[0:6])\n",
    "    \n",
    "    \n"
   ]
  },
  {
   "cell_type": "code",
   "execution_count": 1,
   "id": "c65724f3-b7b9-4692-bf09-40e80b365d3e",
   "metadata": {},
   "outputs": [
    {
     "name": "stdout",
     "output_type": "stream",
     "text": [
      "2\n",
      "3\n",
      "5\n",
      "7\n",
      "11\n",
      "13\n",
      "17\n",
      "19\n",
      "23\n",
      "29\n",
      "31\n",
      "37\n",
      "41\n",
      "43\n",
      "47\n",
      "53\n",
      "59\n",
      "61\n",
      "67\n",
      "71\n"
     ]
    }
   ],
   "source": [
    "# Qus. 4 \n",
    "\"\"\"generator function for prime number less then 1000\"\"\"\n",
    "\n",
    "def prime_generator():\n",
    "    primes = []\n",
    "    num = 2\n",
    "    while num < 1000:\n",
    "        is_prime = True\n",
    "        for prime in primes:\n",
    "            if num % prime == 0:\n",
    "                is_prime = False\n",
    "                break\n",
    "        if is_prime:\n",
    "            primes.append(num)\n",
    "            yield num\n",
    "        num += 1\n",
    "\n",
    "# Create the generator object\n",
    "prime_gen = prime_generator()\n",
    "\n",
    "# Print the first 20 prime numbers\n",
    "for _ in range(20):\n",
    "    prime = next(prime_gen)\n",
    "    print(prime)\n",
    "\n",
    "        \n",
    "        "
   ]
  },
  {
   "cell_type": "code",
   "execution_count": 34,
   "id": "5712889f-6bf3-4716-aafc-8a69fb2d5af0",
   "metadata": {},
   "outputs": [],
   "source": [
    "# QUS. 6 WRITE 10 FIBBONACI NUMBERS \n",
    "def fibo(n):\n",
    "    a = 0 \n",
    "    b = 1\n",
    "    for i in range(n): \n",
    "        yield a \n",
    "        a = b \n",
    "        b = a + b \n",
    "    "
   ]
  },
  {
   "cell_type": "code",
   "execution_count": null,
   "id": "5ebaa6e3-6b7f-4b26-9d0d-253d85c142c5",
   "metadata": {},
   "outputs": [],
   "source": [
    "for i in fibo(10):\n",
    "    print(i)\n"
   ]
  },
  {
   "cell_type": "code",
   "execution_count": null,
   "id": "9581b2b8-ad27-4176-bd85-4c9b2f56b703",
   "metadata": {},
   "outputs": [],
   "source": [
    "# QUS. 7 \n",
    "string = \"pwskills\"\n",
    "list(string)\n"
   ]
  },
  {
   "cell_type": "code",
   "execution_count": 11,
   "id": "d520b136-9554-4017-b0c8-54bb41781b18",
   "metadata": {},
   "outputs": [
    {
     "name": "stdin",
     "output_type": "stream",
     "text": [
      "enter a number to check:   8995\n"
     ]
    },
    {
     "name": "stdout",
     "output_type": "stream",
     "text": [
      "not a palindrome\n"
     ]
    }
   ],
   "source": [
    "# Qus. 7 Palindrom \n",
    "\n",
    "num = input('enter a number to check:  ')\n",
    "list(num)\n",
    "while num[0::] == num[::-1]:\n",
    "    print(num, 'is a palindromic number')\n",
    "    break\n",
    "else : \n",
    "    print(\"not a palindrome\")"
   ]
  },
  {
   "cell_type": "code",
   "execution_count": 5,
   "id": "12ff966d-3a33-43b8-ad13-3f23354cba49",
   "metadata": {},
   "outputs": [
    {
     "name": "stdout",
     "output_type": "stream",
     "text": [
      "1\n",
      "3\n",
      "5\n",
      "7\n",
      "9\n",
      "11\n",
      "13\n",
      "15\n",
      "17\n",
      "19\n",
      "21\n",
      "23\n",
      "25\n",
      "27\n",
      "29\n",
      "31\n",
      "33\n",
      "35\n",
      "37\n",
      "39\n",
      "41\n",
      "43\n",
      "45\n",
      "47\n",
      "49\n",
      "51\n",
      "53\n",
      "55\n",
      "57\n",
      "59\n",
      "61\n",
      "63\n",
      "65\n",
      "67\n",
      "69\n",
      "71\n",
      "73\n",
      "75\n",
      "77\n",
      "79\n",
      "81\n",
      "83\n",
      "85\n",
      "87\n",
      "89\n",
      "91\n",
      "93\n",
      "95\n",
      "97\n",
      "99\n"
     ]
    }
   ],
   "source": [
    "# Qus. 8  \n",
    "\n",
    "lis = []\n",
    "for i in range(1,100):\n",
    "    if i % 2 != 0:\n",
    "        lis.append(i)\n",
    "        print(i)\n",
    "        \n",
    "    "
   ]
  },
  {
   "cell_type": "code",
   "execution_count": null,
   "id": "53fb9407-8a37-455c-8087-860eb25b649d",
   "metadata": {},
   "outputs": [],
   "source": []
  },
  {
   "cell_type": "code",
   "execution_count": null,
   "id": "31d60297-d936-427f-9c11-3352e8850297",
   "metadata": {},
   "outputs": [],
   "source": []
  },
  {
   "cell_type": "code",
   "execution_count": null,
   "id": "0118fcdd-44f0-4c88-b997-f537346022d2",
   "metadata": {},
   "outputs": [],
   "source": []
  }
 ],
 "metadata": {
  "kernelspec": {
   "display_name": "Python 3 (ipykernel)",
   "language": "python",
   "name": "python3"
  },
  "language_info": {
   "codemirror_mode": {
    "name": "ipython",
    "version": 3
   },
   "file_extension": ".py",
   "mimetype": "text/x-python",
   "name": "python",
   "nbconvert_exporter": "python",
   "pygments_lexer": "ipython3",
   "version": "3.10.8"
  }
 },
 "nbformat": 4,
 "nbformat_minor": 5
}
