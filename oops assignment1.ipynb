{
 "cells": [
  {
   "cell_type": "code",
   "execution_count": null,
   "id": "3aedf405-1d12-4104-a972-8bb54a2ce974",
   "metadata": {},
   "outputs": [],
   "source": [
    "class vehicle :\n",
    "    def __init__(self, name_of_vehicle, max_speed ,average_of_vehicle):\n",
    "        self.name_of_vehicle = name_of_vehicle\n",
    "        self.max_speed = max_speed\n",
    "        self.average_of_vehicle = average_of_vehicle"
   ]
  },
  {
   "cell_type": "code",
   "execution_count": null,
   "id": "da318bb6-f70d-45a1-9c2d-a00c13299e8d",
   "metadata": {},
   "outputs": [],
   "source": [
    "class car(vehicle) :\n",
    "    def seating_capacity(self,capacity):\n",
    "        self.capacity = capacity\n",
    "        return f\"Name of the vehicle is {self.name_of_vehicle} and its seating capacity is upto {self.capacity}\"\n",
    "\n",
    "    \n",
    "car_details = car(\"Innova\" , 200 , 100)\n",
    "car_details.seating_capacity(5)"
   ]
  },
  {
   "cell_type": "code",
   "execution_count": null,
   "id": "f631a1fb-3de9-4b08-b41d-ecc36b3ebe56",
   "metadata": {},
   "outputs": [],
   "source": [
    "# Qus 3  : multiple inheritence\n",
    "class fath_class : \n",
    "    def father_class1(self):\n",
    "        return \"this is father_class \""
   ]
  },
  {
   "cell_type": "code",
   "execution_count": null,
   "id": "6529c0eb-5582-4bbe-a976-cdbbef6d120d",
   "metadata": {},
   "outputs": [],
   "source": [
    "class moth_class : \n",
    "    def moth_class2(self):\n",
    "        return \"this is mother_class \""
   ]
  },
  {
   "cell_type": "code",
   "execution_count": null,
   "id": "0f071be9-3895-4f02-aa6e-4874fa1ee5fb",
   "metadata": {},
   "outputs": [],
   "source": [
    "class child_class(fath_class, moth_class):\n",
    "    pass"
   ]
  },
  {
   "cell_type": "code",
   "execution_count": null,
   "id": "36c9c37e-d8ca-49ad-97b2-49ae803d814a",
   "metadata": {},
   "outputs": [],
   "source": [
    "child_class_obj = child_class()"
   ]
  },
  {
   "cell_type": "code",
   "execution_count": null,
   "id": "45260a6d-3486-45a9-8b05-9c73b9b3f98a",
   "metadata": {},
   "outputs": [],
   "source": [
    "child_class_obj.father_class1()"
   ]
  },
  {
   "cell_type": "code",
   "execution_count": 20,
   "id": "b5435223-b38f-4227-930a-23828b53779e",
   "metadata": {},
   "outputs": [],
   "source": [
    "# Qus. getter & setter methods \n",
    "\n",
    "class results:\n",
    "    def __init__(self, subject, marks):\n",
    "        self.__subject = subject\n",
    "        self.__marks = marks\n",
    "    \n",
    "    def set_marks(self,marks):\n",
    "        self.__marks = \"fail\" if marks < 33  else f\"passed : {marks}\"\n",
    "        \n",
    "    def get_marks(self):\n",
    "        return  self.__subject, self.__marks \n",
    "        \n",
    "    \n"
   ]
  },
  {
   "cell_type": "code",
   "execution_count": 21,
   "id": "7c53c478-8fdc-4b70-9330-b2985dbcfe84",
   "metadata": {},
   "outputs": [],
   "source": [
    "student_result = results(\"Math\",52)"
   ]
  },
  {
   "cell_type": "code",
   "execution_count": 24,
   "id": "96b58500-2d29-4485-a4e4-1de40e146627",
   "metadata": {},
   "outputs": [],
   "source": [
    "student_result.set_marks(31)"
   ]
  },
  {
   "cell_type": "code",
   "execution_count": 25,
   "id": "da300de3-163d-43dd-b318-e60f9a9baa15",
   "metadata": {},
   "outputs": [
    {
     "data": {
      "text/plain": [
       "('Math', 'fail')"
      ]
     },
     "execution_count": 25,
     "metadata": {},
     "output_type": "execute_result"
    }
   ],
   "source": [
    "student_result.get_marks()"
   ]
  },
  {
   "cell_type": "code",
   "execution_count": null,
   "id": "e5b8ec14-7edf-4fea-bf3b-7a9faa69c985",
   "metadata": {},
   "outputs": [],
   "source": []
  }
 ],
 "metadata": {
  "kernelspec": {
   "display_name": "Python 3 (ipykernel)",
   "language": "python",
   "name": "python3"
  },
  "language_info": {
   "codemirror_mode": {
    "name": "ipython",
    "version": 3
   },
   "file_extension": ".py",
   "mimetype": "text/x-python",
   "name": "python",
   "nbconvert_exporter": "python",
   "pygments_lexer": "ipython3",
   "version": "3.10.8"
  }
 },
 "nbformat": 4,
 "nbformat_minor": 5
}
